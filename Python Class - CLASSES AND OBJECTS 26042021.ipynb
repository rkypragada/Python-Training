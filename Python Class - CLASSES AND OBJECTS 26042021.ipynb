{
 "cells": [
  {
   "cell_type": "code",
   "execution_count": 1,
   "metadata": {},
   "outputs": [],
   "source": [
    "# CLASSES AND Objects"
   ]
  },
  {
   "cell_type": "code",
   "execution_count": null,
   "metadata": {},
   "outputs": [],
   "source": [
    "Bird is a class ----> sparrow, crow, eagle .. are objects of the class\n",
    "player is a class ----> sachin, rahul,kapil ... are objects of the class\n",
    "flower as a class ----> rose, lilly, jarbera.. are objects of the class\n",
    "instrument as a class ---> sitar, flute, tabala ... are objects of the class"
   ]
  },
  {
   "cell_type": "code",
   "execution_count": null,
   "metadata": {},
   "outputs": [],
   "source": [
    "# programming example\n",
    "\n",
    "i=10------------------> i is an object of class int\n",
    "a=3.14----------------> a is an object of class float\n",
    "s='sandeep'------------------------------------> str\n",
    "lst=[10,20,30]---------------------------------> list\n",
    "tpl=('a','b','c')------------------------------> tuple"
   ]
  },
  {
   "cell_type": "code",
   "execution_count": 2,
   "metadata": {},
   "outputs": [
    {
     "name": "stdout",
     "output_type": "stream",
     "text": [
      "Ramakrishna 42 1000000\n",
      "Ashritha 20 500000\n"
     ]
    }
   ],
   "source": [
    "# user defined datatype - methods()-- public and private members --> _name, _age, _salary\n",
    "\n",
    "class employee :\n",
    "    def set_data(self,n,a,s):\n",
    "        self._name = n\n",
    "        self._age  = a\n",
    "        self._salary = s\n",
    "    \n",
    "    def display_data(self):\n",
    "        print(self._name, self._age, self._salary)\n",
    "        \n",
    "e1 = employee()\n",
    "e1.set_data('Ramakrishna', 42, 1000000)\n",
    "e1.display_data()\n",
    "e2 = employee()\n",
    "e2.set_data('Ashritha',20, 500000)\n",
    "e2.display_data()"
   ]
  },
  {
   "cell_type": "code",
   "execution_count": 3,
   "metadata": {},
   "outputs": [
    {
     "name": "stdout",
     "output_type": "stream",
     "text": [
      "Ramakrishna 42 1000000\n",
      "Ashritha 20 500000\n",
      "sumedha 20 450000\n"
     ]
    }
   ],
   "source": [
    "# object initializations\n",
    "\n",
    "class employee :\n",
    "    def set_data(self,n,a,s):\n",
    "        self._name = n\n",
    "        self._age  = a\n",
    "        self._salary = s\n",
    "    \n",
    "    def display_data(self):\n",
    "        print(self._name, self._age, self._salary)\n",
    "    \n",
    "    def __init__(self,n='',a=0,s=0.0):\n",
    "        self._name = n\n",
    "        self._age = a\n",
    "        self._salary = s\n",
    "    def __del__(self):\n",
    "        print('deleting object'+str(self))\n",
    "e1 = employee()\n",
    "e1.set_data('Ramakrishna', 42, 1000000)\n",
    "e1.display_data()\n",
    "e2 = employee()\n",
    "e2.set_data('Ashritha',20, 500000)\n",
    "e2.display_data()\n",
    "e3 = employee('sumedha',20,450000)\n",
    "e3.display_data()"
   ]
  },
  {
   "cell_type": "code",
   "execution_count": null,
   "metadata": {},
   "outputs": [],
   "source": [
    "# class variables and methods"
   ]
  },
  {
   "cell_type": "code",
   "execution_count": null,
   "metadata": {},
   "outputs": [],
   "source": [
    "syntax ----> classname.varname\n",
    "             classname.methodname()"
   ]
  },
  {
   "cell_type": "code",
   "execution_count": 7,
   "metadata": {},
   "outputs": [
    {
     "name": "stdout",
     "output_type": "stream",
     "text": [
      "{'_name': 'banana', '_size': 5, '_color': 'yellow'}\n",
      "['__class__', '__delattr__', '__dict__', '__dir__', '__doc__', '__eq__', '__format__', '__ge__', '__getattribute__', '__gt__', '__hash__', '__init__', '__init_subclass__', '__le__', '__lt__', '__module__', '__ne__', '__new__', '__reduce__', '__reduce_ex__', '__repr__', '__setattr__', '__sizeof__', '__str__', '__subclasshook__', '__weakref__', '_color', '_name', '_size', 'count', 'display']\n"
     ]
    }
   ],
   "source": [
    "# Accessing object and class attributes\n",
    "\n",
    "class Fruit:\n",
    "    count = 0\n",
    "    \n",
    "    def __init__(self, name = '', size = 0, color = ''):\n",
    "        self._name = name\n",
    "        self._size = size\n",
    "        self._color = color\n",
    "        Fruit.count += 1\n",
    "    \n",
    "    def display():\n",
    "        print(Fruit.count)\n",
    "        \n",
    "f1 = Fruit('banana',5,'yellow')\n",
    "print(vars(f1))\n",
    "print(dir(f1))"
   ]
  },
  {
   "cell_type": "code",
   "execution_count": null,
   "metadata": {},
   "outputs": [],
   "source": []
  },
  {
   "cell_type": "code",
   "execution_count": 2,
   "metadata": {},
   "outputs": [
    {
     "name": "stdout",
     "output_type": "stream",
     "text": [
      "3\n"
     ]
    }
   ],
   "source": [
    "# write a program to create a class called \"fruit\" with attributes \"size\" and \"color\".\n",
    "# create multiple objects of this class.\n",
    "# report how many objects have been created from the class\n",
    "\n",
    "class fruit:\n",
    "    count=0\n",
    "    \n",
    "    def __init__(self,name = ' ', size = 0, color = ' '):\n",
    "        self._name = name\n",
    "        self._size = size\n",
    "        self._color = color\n",
    "        fruit.count+=1\n",
    "    def display():\n",
    "        print(fruit.count)\n",
    "\n",
    "f1 = fruit('banana',5,'yellow')\n",
    "f2 = fruit('orange',12,'orange')\n",
    "f2 = fruit('apple',6,'green')\n",
    "fruit.display()"
   ]
  },
  {
   "cell_type": "code",
   "execution_count": 14,
   "metadata": {},
   "outputs": [
    {
     "name": "stdout",
     "output_type": "stream",
     "text": [
      "attributes of c1 and c2 are different\n",
      "c1 and c3 are of same type\n",
      " c2 and c3 are pointing to different objects\n"
     ]
    }
   ],
   "source": [
    "# write a program that determines whether two objects are of same type, whether their attributes are same and \n",
    "# whether they are pointing to same object\n",
    "\n",
    "class Complex:\n",
    "    def __init__ (self, r = 0.0, i = 0.0):\n",
    "        self._real = r\n",
    "        self._imag = i\n",
    "        \n",
    "    def __eq__ (self,other):\n",
    "        if self._real == other._real and self._imag == other._imag :\n",
    "            return True\n",
    "        else:\n",
    "            return False\n",
    "\n",
    "c1 = Complex(1.1,0.2)\n",
    "c2 = Complex(2.1,0.4)\n",
    "c3 = c1\n",
    "if c1 == c2:\n",
    "    print(\"attributes of c1 and c2 are same\")\n",
    "else:\n",
    "    print(\"attributes of c1 and c2 are different\")\n",
    "    \n",
    "if type(c1) == type(c3):\n",
    "    print(\"c1 and c3 are of same type\")\n",
    "else:\n",
    "    print(\"c1 and c3 are of different type\")\n",
    "\n",
    "if c2 is c3:\n",
    "    print (\" c2 and c3 are pointing to the same object\")\n",
    "else:\n",
    "    print (\" c2 and c3 are pointing to different objects\")"
   ]
  },
  {
   "cell_type": "markdown",
   "metadata": {},
   "source": [
    "#<># write a program that displays the attributes of integer, float and function objects.\n",
    "<># Also show how these attributes can be used"
   ]
  },
  {
   "cell_type": "code",
   "execution_count": 23,
   "metadata": {},
   "outputs": [
    {
     "name": "stdout",
     "output_type": "stream",
     "text": [
      "['__abs__', '__add__', '__and__', '__bool__', '__ceil__', '__class__', '__delattr__', '__dir__', '__divmod__', '__doc__', '__eq__', '__float__', '__floor__', '__floordiv__', '__format__', '__ge__', '__getattribute__', '__getnewargs__', '__gt__', '__hash__', '__index__', '__init__', '__init_subclass__', '__int__', '__invert__', '__le__', '__lshift__', '__lt__', '__mod__', '__mul__', '__ne__', '__neg__', '__new__', '__or__', '__pos__', '__pow__', '__radd__', '__rand__', '__rdivmod__', '__reduce__', '__reduce_ex__', '__repr__', '__rfloordiv__', '__rlshift__', '__rmod__', '__rmul__', '__ror__', '__round__', '__rpow__', '__rrshift__', '__rshift__', '__rsub__', '__rtruediv__', '__rxor__', '__setattr__', '__sizeof__', '__str__', '__sub__', '__subclasshook__', '__truediv__', '__trunc__', '__xor__', 'as_integer_ratio', 'bit_length', 'conjugate', 'denominator', 'from_bytes', 'imag', 'numerator', 'real', 'to_bytes']\n",
      "['__abs__', '__add__', '__bool__', '__class__', '__delattr__', '__dir__', '__divmod__', '__doc__', '__eq__', '__float__', '__floordiv__', '__format__', '__ge__', '__getattribute__', '__getformat__', '__getnewargs__', '__gt__', '__hash__', '__init__', '__init_subclass__', '__int__', '__le__', '__lt__', '__mod__', '__mul__', '__ne__', '__neg__', '__new__', '__pos__', '__pow__', '__radd__', '__rdivmod__', '__reduce__', '__reduce_ex__', '__repr__', '__rfloordiv__', '__rmod__', '__rmul__', '__round__', '__rpow__', '__rsub__', '__rtruediv__', '__set_format__', '__setattr__', '__sizeof__', '__str__', '__sub__', '__subclasshook__', '__truediv__', '__trunc__', 'as_integer_ratio', 'conjugate', 'fromhex', 'hex', 'imag', 'is_integer', 'real']\n",
      "every thing is an object\n",
      "['__bool__', '__class__', '__delattr__', '__dir__', '__doc__', '__eq__', '__format__', '__ge__', '__getattribute__', '__gt__', '__hash__', '__init__', '__init_subclass__', '__le__', '__lt__', '__ne__', '__new__', '__reduce__', '__reduce_ex__', '__repr__', '__setattr__', '__sizeof__', '__str__', '__subclasshook__']\n",
      "11\n",
      "5.67\n",
      "every thing is an object\n"
     ]
    }
   ],
   "source": [
    "\n",
    "\n",
    "def fun():\n",
    "    print('every thing is an object')\n",
    "\n",
    "print(dir(55))\n",
    "print(dir(-5.67))\n",
    "print(dir(fun()))\n",
    "print((5).__add__(6))\n",
    "print((-5.67).__abs__())\n",
    "d=globals()\n",
    "d['fun'].__call__()"
   ]
  },
  {
   "cell_type": "markdown",
   "metadata": {},
   "source": [
    "# Intricacies of Classes and Objects"
   ]
  },
  {
   "cell_type": "code",
   "execution_count": 1,
   "metadata": {},
   "outputs": [],
   "source": [
    "# identifier naming conventions\n",
    "\n",
    "# 1. normal variable, function, classes, instance method, class data or class method\n",
    "\n",
    "# Class names: Ex: - Employee, Fruit, Bird, Complex.....\n",
    "\n",
    "# other identifies : ex: real, imag, age, salary, .... printit(), display()....\n",
    "\n",
    "# private identifiers: Ex: _name, _age, _set_data(), _get_errors().....\n",
    "\n",
    "# strongly private identifier: Ex: __set_data(), __get_data()\n",
    "\n",
    "# language defined special names: Ex:- __init__(), __del__(), __add__(), __sub__().........\n",
    "\n",
    "# never use keywords as identifiers."
   ]
  },
  {
   "cell_type": "code",
   "execution_count": 11,
   "metadata": {},
   "outputs": [
    {
     "name": "stdout",
     "output_type": "stream",
     "text": [
      "Opener\n",
      "Python Programming\n",
      "Opener\n",
      "Hi\n",
      "Opener\n",
      " Hello Python\n",
      "Opener\n",
      "Hi\n"
     ]
    }
   ],
   "source": [
    "# calling functions and methods\n",
    "\n",
    "def printit():\n",
    "    print('Opener')\n",
    "\n",
    "class Message:\n",
    "    def display(self,msg):\n",
    "        printit()\n",
    "        print(msg)\n",
    "    \n",
    "    def show():\n",
    "        printit()\n",
    "        print(\"Hi\")\n",
    "        #display()\n",
    "        \n",
    "m =  Message()\n",
    "m.display('Python Programming')\n",
    "Message.show()\n",
    "\n",
    "m2 = Message()\n",
    "m2.display(' Hello Python')\n",
    "Message.show()"
   ]
  },
  {
   "cell_type": "code",
   "execution_count": 9,
   "metadata": {},
   "outputs": [
    {
     "name": "stdout",
     "output_type": "stream",
     "text": [
      "Opener\n",
      " Hello Python\n",
      "Opener\n",
      "Hi\n"
     ]
    }
   ],
   "source": [
    "# A class method and instance method can also be called from a method of another class\n",
    "\n",
    "m2 = Message()\n",
    "m2.display(' Hello Python')\n",
    "Message.show()"
   ]
  },
  {
   "cell_type": "code",
   "execution_count": 14,
   "metadata": {},
   "outputs": [
    {
     "name": "stdout",
     "output_type": "stream",
     "text": [
      "-14.0 -4.0\n",
      "16.2 4.4\n"
     ]
    }
   ],
   "source": [
    "# Operator Overloading\n",
    "\n",
    "class Complex:\n",
    "    def __init__(self,r=0.0,i=0.0):\n",
    "        self._real = r\n",
    "        self._imag = i\n",
    "        \n",
    "    def __add__(self,other):\n",
    "        z=Complex()\n",
    "        z._real = self._real + other._real\n",
    "        z._imag = self._imag + other._imag\n",
    "        return z\n",
    "    \n",
    "    def __sub__(self,other):\n",
    "        z=Complex()\n",
    "        z._real = self._real - other._real\n",
    "        z._imag = self._imag - other._imag\n",
    "        return z\n",
    "    \n",
    "    def display(self):\n",
    "        print(self._real, self._imag)\n",
    "\n",
    "c1 = Complex(1.1,0.2)\n",
    "c2 = Complex(-15.1,-4.2)\n",
    "c3 = c1+c2\n",
    "c3.display()\n",
    "c4 = c1-c2\n",
    "c4.display()"
   ]
  },
  {
   "cell_type": "markdown",
   "metadata": {},
   "source": [
    "<># List of operators that can be overloaded"
   ]
  },
  {
   "cell_type": "markdown",
   "metadata": {},
   "source": [
    "<# Arithmetic operators\n",
    "\n",
    "+   __add__(self,other)\n",
    "-     sub\n",
    "*     mul\n",
    "/   __truediv__(self,other)\n",
    "%     mod\n",
    "**    pow\n",
    "//    floordiv"
   ]
  },
  {
   "cell_type": "code",
   "execution_count": null,
   "metadata": {},
   "outputs": [],
   "source": [
    "<># Comparision operator\n",
    "\n",
    "<  __lt__(self,other)\n",
    ">    gt\n",
    "<=   le \n",
    ">=   ge \n",
    "==   eq\n",
    "!=   ne"
   ]
  },
  {
   "cell_type": "code",
   "execution_count": 16,
   "metadata": {},
   "outputs": [
    {
     "data": {
      "text/plain": [
       "25"
      ]
     },
     "execution_count": 16,
     "metadata": {},
     "output_type": "execute_result"
    }
   ],
   "source": [
    "# Compound assignment operators\n",
    "\n",
    "-=    __isub__(self,other)\n",
    "+=      iadd \n",
    "*=      imul\n",
    "/=      idiv\n",
    "//=     ifloordiv\n",
    "%=      imod\n",
    "**=     ipow"
   ]
  },
  {
   "cell_type": "markdown",
   "metadata": {},
   "source": [
    "<>#Note: Python does not support function overloading."
   ]
  },
  {
   "cell_type": "code",
   "execution_count": 19,
   "metadata": {},
   "outputs": [
    {
     "name": "stdout",
     "output_type": "stream",
     "text": [
      "<class 'int'> 140725121002656\n",
      "<class 'float'> 2807183433104\n",
      "<class 'complex'> 2807178363216\n",
      "<class 'str'> 2807174056752\n",
      "<class 'list'> 2807174102144\n",
      "<class 'tuple'> 2807157931040\n",
      "<class 'set'> 2807175464992\n",
      "<class 'dict'> 2807174658240\n",
      "<class 'function'> 2807176076016\n",
      "<class 'type'> 2807145776112\n",
      "<class 'module'> 2807097728832\n"
     ]
    }
   ],
   "source": [
    "# Every thing is an object\n",
    "\n",
    "import math\n",
    "\n",
    "class Message:\n",
    "    def display(self,msg):\n",
    "        print(msg)\n",
    "        \n",
    "def fun():\n",
    "    print(\"Every thing is an Object\")\n",
    "\n",
    "i = 45\n",
    "a = 3.14\n",
    "c = 3+2j\n",
    "city = 'Hyderabad'\n",
    "lst = [10,20,30]\n",
    "tup = (10,20,30,40)\n",
    "s = {'a','e','i','o','u'}\n",
    "d = {'Ajay': 30, 'Vijay':35, 'Sujay':45}\n",
    "\n",
    "print(type(i),id(i))\n",
    "print(type(a),id(a))\n",
    "print(type(c),id(c))\n",
    "print(type(city),id(city))\n",
    "print(type(lst),id(lst))\n",
    "print(type(tup),id(tup))\n",
    "print(type(s),id(s))\n",
    "print(type(d),id(d))\n",
    "print(type(fun),id(fun))\n",
    "print(type(Message),id(Message))\n",
    "print(type(math),id(math))"
   ]
  },
  {
   "cell_type": "code",
   "execution_count": 21,
   "metadata": {},
   "outputs": [
    {
     "name": "stdout",
     "output_type": "stream",
     "text": [
      "20 20\n",
      "20 30\n",
      "20 30\n"
     ]
    }
   ],
   "source": [
    "# Same object can have multiple names, we can access using one object and change using other\n",
    "\n",
    "i = 20\n",
    "\n",
    "j = i\n",
    "\n",
    "k = i\n",
    "\n",
    "k = 30\n",
    "\n",
    "print(i,j)\n",
    "print(i,k)\n",
    "print(j,k)"
   ]
  },
  {
   "cell_type": "code",
   "execution_count": 7,
   "metadata": {},
   "outputs": [
    {
     "data": {
      "text/plain": [
       "<__main__.Bird at 0x161cc3cb100>"
      ]
     },
     "execution_count": 7,
     "metadata": {},
     "output_type": "execute_result"
    }
   ],
   "source": [
    "#Imitating a Structure\n",
    "\n",
    "class Bird:\n",
    "    pass\n",
    "\n",
    "b = Bird()\n",
    "\n",
    "# creating attributes dynamically\n",
    "\n",
    "b.name = 'Sparrow'\n",
    "b.weight = 500 \n",
    "b.color = 'light brown'\n",
    "b.animaltype = 'Vertebrate'\n",
    "\n",
    "# modify attributes\n",
    "\n",
    "b.weight = 450\n",
    "b.color = 'White'\n",
    "\n",
    "# delete attributes\n",
    "\n",
    "del b.animaltype\n",
    "\n",
    "Bird()"
   ]
  },
  {
   "cell_type": "code",
   "execution_count": 21,
   "metadata": {},
   "outputs": [
    {
     "name": "stdout",
     "output_type": "stream",
     "text": [
      "125 125.0 3.14 3\n"
     ]
    }
   ],
   "source": [
    "# Data Conversion\n",
    "\n",
    "# conversion between different buit-in types\n",
    "\n",
    "i=125\n",
    "a=float(i)\n",
    "b=3.14\n",
    "j=int(b)\n",
    "\n",
    "print(i,a,b,j)\n",
    "\n",
    "\n"
   ]
  },
  {
   "cell_type": "code",
   "execution_count": 30,
   "metadata": {},
   "outputs": [
    {
     "ename": "TypeError",
     "evalue": "__init__() takes 1 positional argument but 2 were given",
     "output_type": "error",
     "traceback": [
      "\u001b[1;31m---------------------------------------------------------------------------\u001b[0m",
      "\u001b[1;31mTypeError\u001b[0m                                 Traceback (most recent call last)",
      "\u001b[1;32m<ipython-input-30-977d4c9943f4>\u001b[0m in \u001b[0;36m<module>\u001b[1;34m\u001b[0m\n\u001b[0;32m     11\u001b[0m         \u001b[1;32mreturn\u001b[0m \u001b[0mself\u001b[0m\u001b[1;33m.\u001b[0m\u001b[0m_str\u001b[0m\u001b[1;33m\u001b[0m\u001b[1;33m\u001b[0m\u001b[0m\n\u001b[0;32m     12\u001b[0m \u001b[1;33m\u001b[0m\u001b[0m\n\u001b[1;32m---> 13\u001b[1;33m \u001b[0ms1\u001b[0m \u001b[1;33m=\u001b[0m \u001b[0mString\u001b[0m\u001b[1;33m(\u001b[0m\u001b[1;36m123\u001b[0m\u001b[1;33m)\u001b[0m\u001b[1;33m\u001b[0m\u001b[1;33m\u001b[0m\u001b[0m\n\u001b[0m\u001b[0;32m     14\u001b[0m \u001b[0ms1\u001b[0m\u001b[1;33m.\u001b[0m\u001b[0mdisplay\u001b[0m\u001b[1;33m(\u001b[0m\u001b[1;33m)\u001b[0m\u001b[1;33m\u001b[0m\u001b[1;33m\u001b[0m\u001b[0m\n\u001b[0;32m     15\u001b[0m \u001b[0mi\u001b[0m\u001b[1;33m=\u001b[0m\u001b[0mint\u001b[0m\u001b[1;33m(\u001b[0m\u001b[0ms1\u001b[0m\u001b[1;33m)\u001b[0m\u001b[1;33m\u001b[0m\u001b[1;33m\u001b[0m\u001b[0m\n",
      "\u001b[1;31mTypeError\u001b[0m: __init__() takes 1 positional argument but 2 were given"
     ]
    }
   ],
   "source": [
    "# conversion between built-in and user defined types\n",
    "\n",
    "class String:\n",
    "    def __init__(self,s=''):\n",
    "        self._str= s\n",
    "        \n",
    "    def display(self):\n",
    "        print(self._str)\n",
    "    \n",
    "    def __init__(self):\n",
    "        return self._str\n",
    "    \n",
    "s1 = String(123)\n",
    "s1.display()\n",
    "i=int(s1)\n",
    "print(i)"
   ]
  },
  {
   "cell_type": "code",
   "execution_count": 32,
   "metadata": {},
   "outputs": [
    {
     "name": "stdout",
     "output_type": "stream",
     "text": [
      "d1 = 17 / 11 / 94\n",
      "d2 = 17 / 11 / 94\n"
     ]
    }
   ],
   "source": [
    "# Conversion between different user - defined types\n",
    "\n",
    "# A user - defined type \"DMY\" is converted in to another user - defined type \"Date\" __Date__() has been overloaded\n",
    "#to carry out the conversion from DMY to Date.\n",
    "\n",
    "class Date:\n",
    "    ''' This is a user \n",
    "    \n",
    "    defined Date method'''\n",
    "    def __init__(self,s=''):\n",
    "        self._dt = s\n",
    "        \n",
    "    def display(self):\n",
    "        print(self._dt)\n",
    "\n",
    "class DMY:\n",
    "    def __init__(self, d=0, m=0, y=0):\n",
    "        self._day = d;\n",
    "        self._mth = m;\n",
    "        self._yr = y;\n",
    "        \n",
    "    def __Date__():\n",
    "        s = str(self._day)+'/'+str(self._mth)+'/'+str(self._yr)\n",
    "        return Date(s)\n",
    "    \n",
    "    def display(self):\n",
    "        print(self._day,'/',self._mth,'/',self._yr)\n",
    "\n",
    "d2 = DMY(17,11,94)\n",
    "d1 = d2;\n",
    "print('d1 = ',end = '')\n",
    "d1.display()\n",
    "print('d2 = ', end = '')\n",
    "d2.display()"
   ]
  },
  {
   "cell_type": "code",
   "execution_count": null,
   "metadata": {},
   "outputs": [],
   "source": [
    "# Documentation Strings\n",
    "\n",
    "# Also called as docstring"
   ]
  },
  {
   "cell_type": "code",
   "execution_count": 34,
   "metadata": {},
   "outputs": [
    {
     "name": "stdout",
     "output_type": "stream",
     "text": [
      "G\n",
      "o\n",
      "o\n",
      "d\n",
      " \n",
      "A\n",
      "f\n",
      "t\n",
      "e\n",
      "r\n",
      "n\n",
      "o\n",
      "o\n",
      "n\n",
      "10\n",
      "20\n",
      "30\n",
      "40\n",
      "50\n"
     ]
    }
   ],
   "source": [
    "# Iterators __iter__() method __next__()\n",
    "\n",
    "for ch in 'Good Afternoon':\n",
    "    print(ch)\n",
    "\n",
    "for num in [10,20,30,40,50]:\n",
    "    print(num)\n"
   ]
  },
  {
   "cell_type": "code",
   "execution_count": 41,
   "metadata": {},
   "outputs": [
    {
     "name": "stdout",
     "output_type": "stream",
     "text": [
      "10\n",
      "20\n"
     ]
    }
   ],
   "source": [
    "lst = [10,20,30,40,50]\n",
    "i = lst.__iter__()\n",
    "print(i.__next__())\n",
    "print(i.__next__())"
   ]
  },
  {
   "cell_type": "code",
   "execution_count": 38,
   "metadata": {},
   "outputs": [
    {
     "name": "stdout",
     "output_type": "stream",
     "text": [
      "['__add__', '__class__', '__contains__', '__delattr__', '__delitem__', '__dir__', '__doc__', '__eq__', '__format__', '__ge__', '__getattribute__', '__getitem__', '__gt__', '__hash__', '__iadd__', '__imul__', '__init__', '__init_subclass__', '__iter__', '__le__', '__len__', '__lt__', '__mul__', '__ne__', '__new__', '__reduce__', '__reduce_ex__', '__repr__', '__reversed__', '__rmul__', '__setattr__', '__setitem__', '__sizeof__', '__str__', '__subclasshook__', 'append', 'clear', 'copy', 'count', 'extend', 'index', 'insert', 'pop', 'remove', 'reverse', 'sort']\n"
     ]
    }
   ],
   "source": [
    "# to prove that a list is iterable and not an iterator\n",
    "\n",
    "lst = [10,20,30,40,50]\n",
    "print(dir(lst))\n"
   ]
  },
  {
   "cell_type": "code",
   "execution_count": 39,
   "metadata": {},
   "outputs": [
    {
     "name": "stdout",
     "output_type": "stream",
     "text": [
      "['__class__', '__delattr__', '__dir__', '__doc__', '__eq__', '__format__', '__ge__', '__getattribute__', '__gt__', '__hash__', '__init__', '__init_subclass__', '__iter__', '__le__', '__length_hint__', '__lt__', '__ne__', '__new__', '__next__', '__reduce__', '__reduce_ex__', '__repr__', '__setattr__', '__setstate__', '__sizeof__', '__str__', '__subclasshook__']\n"
     ]
    }
   ],
   "source": [
    "i = iter(lst)\n",
    "print(dir(i))"
   ]
  },
  {
   "cell_type": "code",
   "execution_count": null,
   "metadata": {},
   "outputs": [],
   "source": []
  },
  {
   "cell_type": "code",
   "execution_count": null,
   "metadata": {},
   "outputs": [],
   "source": []
  },
  {
   "cell_type": "code",
   "execution_count": null,
   "metadata": {},
   "outputs": [],
   "source": []
  },
  {
   "cell_type": "code",
   "execution_count": null,
   "metadata": {},
   "outputs": [],
   "source": []
  },
  {
   "cell_type": "code",
   "execution_count": null,
   "metadata": {},
   "outputs": [],
   "source": []
  },
  {
   "cell_type": "code",
   "execution_count": null,
   "metadata": {},
   "outputs": [],
   "source": []
  }
 ],
 "metadata": {
  "kernelspec": {
   "display_name": "Python 3",
   "language": "python",
   "name": "python3"
  },
  "language_info": {
   "codemirror_mode": {
    "name": "ipython",
    "version": 3
   },
   "file_extension": ".py",
   "mimetype": "text/x-python",
   "name": "python",
   "nbconvert_exporter": "python",
   "pygments_lexer": "ipython3",
   "version": "3.8.5"
  }
 },
 "nbformat": 4,
 "nbformat_minor": 4
}
