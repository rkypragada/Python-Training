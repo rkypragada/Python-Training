{
 "cells": [
  {
   "cell_type": "code",
   "execution_count": null,
   "metadata": {},
   "outputs": [],
   "source": [
    "#tkinter Package\n",
    "#Widget\n",
    "frame\n",
    "label\n",
    "labelframe\n",
    "button\n",
    "checkbutton\n",
    "radiobutton\n",
    "entry\n",
    "text\n",
    "message\n",
    "combobox\n",
    "listbox\n",
    "scrollbar\n",
    "scale\n",
    "canvas\n",
    "menu"
   ]
  },
  {
   "cell_type": "code",
   "execution_count": 3,
   "metadata": {},
   "outputs": [
    {
     "name": "stdout",
     "output_type": "stream",
     "text": [
      "8.6\n"
     ]
    }
   ],
   "source": [
    "import tkinter\n",
    "print(tkinter.TkVersion)"
   ]
  },
  {
   "cell_type": "code",
   "execution_count": 4,
   "metadata": {},
   "outputs": [],
   "source": [
    "# to display the window\n",
    "from tkinter import Tk\n",
    "root = Tk()\n",
    "root.mainloop()"
   ]
  },
  {
   "cell_type": "code",
   "execution_count": 5,
   "metadata": {},
   "outputs": [],
   "source": [
    "# to set title of the tkinter window\n",
    "from tkinter import Tk\n",
    "root = Tk()\n",
    "root.title(\"Fun with Python Programming\")\n",
    "root.mainloop()"
   ]
  },
  {
   "cell_type": "code",
   "execution_count": 6,
   "metadata": {},
   "outputs": [
    {
     "name": "stdout",
     "output_type": "stream",
     "text": [
      "Screen Width:  1536\n",
      "screen Height:  864\n"
     ]
    }
   ],
   "source": [
    "# printing the screen size\n",
    "from tkinter import Tk\n",
    "root = Tk()\n",
    "screen_width = root.winfo_screenwidth()\n",
    "screen_height = root.winfo_screenheight()\n",
    "print(\"Screen Width: \" , screen_width)\n",
    "print(\"screen Height: \", screen_height)"
   ]
  },
  {
   "cell_type": "code",
   "execution_count": 7,
   "metadata": {},
   "outputs": [],
   "source": [
    "# Window full screen\n",
    "from tkinter import Tk\n",
    "root = Tk()\n",
    "root.attributes('-fullscreen', True)\n",
    "root.mainloop()"
   ]
  },
  {
   "cell_type": "code",
   "execution_count": 11,
   "metadata": {},
   "outputs": [],
   "source": [
    "# window at specified location\n",
    "from tkinter import Tk\n",
    "root = Tk()\n",
    "root.geometry(\"800x100+350+650\")\n",
    "root.mainloop()"
   ]
  },
  {
   "cell_type": "code",
   "execution_count": 12,
   "metadata": {},
   "outputs": [],
   "source": [
    "# Create a label as a child of the root window\n",
    "\n",
    "from tkinter import Tk, Label\n",
    "root = Tk()\n",
    "msg = Label(root, text = \"Welcome to programming with Python !\")\n",
    "msg.pack()\n",
    "root.mainloop()"
   ]
  },
  {
   "cell_type": "code",
   "execution_count": 13,
   "metadata": {},
   "outputs": [],
   "source": [
    "# to change the font of the text\n",
    "from tkinter import Tk, Message\n",
    "root = Tk()\n",
    "msg = Message(root, text = \"Welcome to programming with Python !\")\n",
    "msg.config(font = ('callibri', 24, 'italic bold underline'))\n",
    "msg.pack()\n",
    "root.mainloop()"
   ]
  },
  {
   "cell_type": "code",
   "execution_count": 17,
   "metadata": {},
   "outputs": [
    {
     "ename": "TclError",
     "evalue": "couldn't open \"C:\\Users\\LENOVO\\Desktop\\daily\\mom\": no such file or directory",
     "output_type": "error",
     "traceback": [
      "\u001b[1;31m---------------------------------------------------------------------------\u001b[0m",
      "\u001b[1;31mTclError\u001b[0m                                  Traceback (most recent call last)",
      "\u001b[1;32m<ipython-input-17-46fc032b9c43>\u001b[0m in \u001b[0;36m<module>\u001b[1;34m\u001b[0m\n\u001b[0;32m      3\u001b[0m \u001b[1;32mfrom\u001b[0m \u001b[0mtkinter\u001b[0m \u001b[1;32mimport\u001b[0m \u001b[0mTk\u001b[0m\u001b[1;33m,\u001b[0m \u001b[0mLabel\u001b[0m\u001b[1;33m,\u001b[0m \u001b[0mPhotoImage\u001b[0m\u001b[1;33m\u001b[0m\u001b[1;33m\u001b[0m\u001b[0m\n\u001b[0;32m      4\u001b[0m \u001b[0mroot\u001b[0m \u001b[1;33m=\u001b[0m \u001b[0mTk\u001b[0m\u001b[1;33m(\u001b[0m\u001b[1;33m)\u001b[0m\u001b[1;33m\u001b[0m\u001b[1;33m\u001b[0m\u001b[0m\n\u001b[1;32m----> 5\u001b[1;33m \u001b[0mimg\u001b[0m \u001b[1;33m=\u001b[0m \u001b[0mPhotoImage\u001b[0m\u001b[1;33m(\u001b[0m\u001b[0mfile\u001b[0m\u001b[1;33m=\u001b[0m\u001b[1;34m'C:\\\\Users\\\\LENOVO\\\\Desktop\\\\daily\\\\mom'\u001b[0m\u001b[1;33m)\u001b[0m\u001b[1;33m\u001b[0m\u001b[1;33m\u001b[0m\u001b[0m\n\u001b[0m\u001b[0;32m      6\u001b[0m \u001b[0mIMG\u001b[0m \u001b[1;33m=\u001b[0m \u001b[0mLabel\u001b[0m\u001b[1;33m(\u001b[0m\u001b[0mroot\u001b[0m\u001b[1;33m,\u001b[0m \u001b[0mimage\u001b[0m \u001b[1;33m=\u001b[0m \u001b[0mimg\u001b[0m\u001b[1;33m)\u001b[0m\u001b[1;33m\u001b[0m\u001b[1;33m\u001b[0m\u001b[0m\n\u001b[0;32m      7\u001b[0m \u001b[0mIMG\u001b[0m\u001b[1;33m.\u001b[0m\u001b[0mpack\u001b[0m\u001b[1;33m(\u001b[0m\u001b[1;33m)\u001b[0m\u001b[1;33m\u001b[0m\u001b[1;33m\u001b[0m\u001b[0m\n",
      "\u001b[1;32mC:\\ProgramData\\Anaconda2021\\lib\\tkinter\\__init__.py\u001b[0m in \u001b[0;36m__init__\u001b[1;34m(self, name, cnf, master, **kw)\u001b[0m\n\u001b[0;32m   4059\u001b[0m         \u001b[0mValid\u001b[0m \u001b[0mresource\u001b[0m \u001b[0mnames\u001b[0m\u001b[1;33m:\u001b[0m \u001b[0mdata\u001b[0m\u001b[1;33m,\u001b[0m \u001b[0mformat\u001b[0m\u001b[1;33m,\u001b[0m \u001b[0mfile\u001b[0m\u001b[1;33m,\u001b[0m \u001b[0mgamma\u001b[0m\u001b[1;33m,\u001b[0m \u001b[0mheight\u001b[0m\u001b[1;33m,\u001b[0m \u001b[0mpalette\u001b[0m\u001b[1;33m,\u001b[0m\u001b[1;33m\u001b[0m\u001b[1;33m\u001b[0m\u001b[0m\n\u001b[0;32m   4060\u001b[0m         width.\"\"\"\n\u001b[1;32m-> 4061\u001b[1;33m         \u001b[0mImage\u001b[0m\u001b[1;33m.\u001b[0m\u001b[0m__init__\u001b[0m\u001b[1;33m(\u001b[0m\u001b[0mself\u001b[0m\u001b[1;33m,\u001b[0m \u001b[1;34m'photo'\u001b[0m\u001b[1;33m,\u001b[0m \u001b[0mname\u001b[0m\u001b[1;33m,\u001b[0m \u001b[0mcnf\u001b[0m\u001b[1;33m,\u001b[0m \u001b[0mmaster\u001b[0m\u001b[1;33m,\u001b[0m \u001b[1;33m**\u001b[0m\u001b[0mkw\u001b[0m\u001b[1;33m)\u001b[0m\u001b[1;33m\u001b[0m\u001b[1;33m\u001b[0m\u001b[0m\n\u001b[0m\u001b[0;32m   4062\u001b[0m \u001b[1;33m\u001b[0m\u001b[0m\n\u001b[0;32m   4063\u001b[0m     \u001b[1;32mdef\u001b[0m \u001b[0mblank\u001b[0m\u001b[1;33m(\u001b[0m\u001b[0mself\u001b[0m\u001b[1;33m)\u001b[0m\u001b[1;33m:\u001b[0m\u001b[1;33m\u001b[0m\u001b[1;33m\u001b[0m\u001b[0m\n",
      "\u001b[1;32mC:\\ProgramData\\Anaconda2021\\lib\\tkinter\\__init__.py\u001b[0m in \u001b[0;36m__init__\u001b[1;34m(self, imgtype, name, cnf, master, **kw)\u001b[0m\n\u001b[0;32m   4004\u001b[0m                 \u001b[0mv\u001b[0m \u001b[1;33m=\u001b[0m \u001b[0mself\u001b[0m\u001b[1;33m.\u001b[0m\u001b[0m_register\u001b[0m\u001b[1;33m(\u001b[0m\u001b[0mv\u001b[0m\u001b[1;33m)\u001b[0m\u001b[1;33m\u001b[0m\u001b[1;33m\u001b[0m\u001b[0m\n\u001b[0;32m   4005\u001b[0m             \u001b[0moptions\u001b[0m \u001b[1;33m=\u001b[0m \u001b[0moptions\u001b[0m \u001b[1;33m+\u001b[0m \u001b[1;33m(\u001b[0m\u001b[1;34m'-'\u001b[0m\u001b[1;33m+\u001b[0m\u001b[0mk\u001b[0m\u001b[1;33m,\u001b[0m \u001b[0mv\u001b[0m\u001b[1;33m)\u001b[0m\u001b[1;33m\u001b[0m\u001b[1;33m\u001b[0m\u001b[0m\n\u001b[1;32m-> 4006\u001b[1;33m         \u001b[0mself\u001b[0m\u001b[1;33m.\u001b[0m\u001b[0mtk\u001b[0m\u001b[1;33m.\u001b[0m\u001b[0mcall\u001b[0m\u001b[1;33m(\u001b[0m\u001b[1;33m(\u001b[0m\u001b[1;34m'image'\u001b[0m\u001b[1;33m,\u001b[0m \u001b[1;34m'create'\u001b[0m\u001b[1;33m,\u001b[0m \u001b[0mimgtype\u001b[0m\u001b[1;33m,\u001b[0m \u001b[0mname\u001b[0m\u001b[1;33m,\u001b[0m\u001b[1;33m)\u001b[0m \u001b[1;33m+\u001b[0m \u001b[0moptions\u001b[0m\u001b[1;33m)\u001b[0m\u001b[1;33m\u001b[0m\u001b[1;33m\u001b[0m\u001b[0m\n\u001b[0m\u001b[0;32m   4007\u001b[0m         \u001b[0mself\u001b[0m\u001b[1;33m.\u001b[0m\u001b[0mname\u001b[0m \u001b[1;33m=\u001b[0m \u001b[0mname\u001b[0m\u001b[1;33m\u001b[0m\u001b[1;33m\u001b[0m\u001b[0m\n\u001b[0;32m   4008\u001b[0m \u001b[1;33m\u001b[0m\u001b[0m\n",
      "\u001b[1;31mTclError\u001b[0m: couldn't open \"C:\\Users\\LENOVO\\Desktop\\daily\\mom\": no such file or directory"
     ]
    }
   ],
   "source": [
    "# to display an image\n",
    "\n",
    "from tkinter import Tk, Label, PhotoImage\n",
    "root = Tk()\n",
    "img = PhotoImage(file='C:\\\\Users\\\\LENOVO\\\\Desktop\\\\daily\\\\mom')\n",
    "IMG = Label(root, image = img)\n",
    "IMG.pack()\n",
    "root.mainloop()"
   ]
  },
  {
   "cell_type": "code",
   "execution_count": 20,
   "metadata": {},
   "outputs": [
    {
     "name": "stdout",
     "output_type": "stream",
     "text": [
      "You clicked the Message Button....\n",
      "You clicked the Message Button....\n"
     ]
    }
   ],
   "source": [
    "# display two buttons and print a message when a button is clicked\n",
    "\n",
    "from tkinter import Tk, Button\n",
    "root = Tk()\n",
    "\n",
    "exitButton = Button(root, text = \" Exit Program\", command = root.destroy)\n",
    "exitButton.pack()\n",
    "def my_callback():\n",
    "    print(\"You clicked the Message Button....\")\n",
    "msg_button = Button(root, text='click here', command = my_callback)\n",
    "msg_button.pack()\n",
    "root.mainloop()"
   ]
  },
  {
   "cell_type": "code",
   "execution_count": 22,
   "metadata": {},
   "outputs": [],
   "source": [
    "# to print colored text on colored background of GUI window\n",
    "\n",
    "from tkinter import Tk, Label\n",
    "root = Tk()\n",
    "label = Label(root, text = 'Welcome toGUI Programming in python!!!!')\n",
    "label.pack()\n",
    "label.config(foreground = 'yellow', background = 'blue', text ='updated text !!')\n",
    "root.mainloop()"
   ]
  },
  {
   "cell_type": "code",
   "execution_count": null,
   "metadata": {},
   "outputs": [],
   "source": [
    "# to display a menu on the menu bar\n",
    "\n",
    "from tkinter import Tk, Menu\n",
    "root = Tk()\n",
    "\n",
    "menu_bar = Menu(root)\n",
    "\n",
    "fileMenu = Menu(menu_bar, tearoff =0)\n",
    "\n",
    "fileMenu.add_command(label = 'Stop', command = root.destroy)\n",
    "fileMenu.add_command(label = 'Kill', command = root.destroy)\n",
    "fileMenu.add_command(label = 'Exit', command = root.destroy)\n",
    "\n",
    "menu_bar.add_cascade(label = \"File\", menu = fileMenu)\n",
    "root.config(menu = menu_bar)\n",
    "root.mainloop()"
   ]
  },
  {
   "cell_type": "code",
   "execution_count": null,
   "metadata": {},
   "outputs": [],
   "source": [
    "# Wait for a while"
   ]
  },
  {
   "cell_type": "code",
   "execution_count": 1,
   "metadata": {},
   "outputs": [
    {
     "name": "stdout",
     "output_type": "stream",
     "text": [
      "\n",
      "hi\n"
     ]
    }
   ],
   "source": [
    "# program that has an entry box in which the message entered by user is printed on the screen\n",
    "\n",
    "from tkinter import Tk, Entry, Button, INSERT\n",
    "root = Tk()\n",
    "\n",
    "entry = Entry(root)\n",
    "entry.pack()\n",
    "\n",
    "def printMsg():\n",
    "    print(entry.get())\n",
    "\n",
    "button = Button(root, text = 'print content', command = printMsg)\n",
    "button.pack()\n",
    "root.mainloop()"
   ]
  },
  {
   "cell_type": "code",
   "execution_count": 2,
   "metadata": {},
   "outputs": [
    {
     "name": "stdout",
     "output_type": "stream",
     "text": [
      " Welcome to GUI Programming of Python\n"
     ]
    }
   ],
   "source": [
    "# Program to display the text on the console when label is pressed\n",
    "\n",
    "from tkinter import Tk, Label\n",
    "root = Tk()\n",
    "\n",
    "label = Label(root, text = ' Message Printing Label -----')\n",
    "label.pack()\n",
    "\n",
    "def my_callback():\n",
    "    print(\" Welcome to GUI Programming of Python\")\n",
    "    \n",
    "label.bind(\"<Button-1>\", lambda e: my_callback())\n",
    "root.mainloop()"
   ]
  },
  {
   "cell_type": "code",
   "execution_count": 1,
   "metadata": {},
   "outputs": [
    {
     "name": "stdout",
     "output_type": "stream",
     "text": [
      "regret for inconvenience....\n"
     ]
    }
   ],
   "source": [
    "# display a pop-up dialog box\n",
    "\n",
    "from tkinter import messagebox\n",
    "\n",
    "title = ' Customer feedback'\n",
    "\n",
    "text = 'Did you like our customer service ?'\n",
    "\n",
    "reply = messagebox.askquestion(title,text)\n",
    "\n",
    "if reply == 'yes':\n",
    "    print('Thank you......')\n",
    "else:\n",
    "    print('regret for inconvenience....')"
   ]
  },
  {
   "cell_type": "code",
   "execution_count": null,
   "metadata": {},
   "outputs": [],
   "source": [
    "# turtle -----> Module"
   ]
  },
  {
   "cell_type": "code",
   "execution_count": null,
   "metadata": {},
   "outputs": [],
   "source": [
    "turtle.forward()\n",
    "turtle.backward()\n",
    "turtle.left()\n",
    "turtle.right()\n",
    "turtle.reset()\n",
    "turtle.shape()\n",
    "turtle.exitonclick()\n",
    "turtle.undo()\n",
    "turtle.color()\n",
    "turtle.hideturtle\n",
    "turtle.showturtle()\n",
    "turtle.setposition()\n",
    "turtle.setpos()\n",
    "turtle.pendown()\n",
    "turtle.penup()\n",
    "turtle.clear()\n",
    "turtle.reset()\n",
    "turtle.circle()\n",
    "turtle.speed()\n",
    "turtle.tracer()\n",
    "turtle.pensize()\n",
    "turtle.bgcolor()\n",
    "turtle.fill()"
   ]
  },
  {
   "cell_type": "code",
   "execution_count": 1,
   "metadata": {},
   "outputs": [],
   "source": [
    "import turtle\n",
    "import time\n",
    "turtle.forward(50)\n",
    "time.sleep(2)\n",
    "turtle.backward(20)"
   ]
  },
  {
   "cell_type": "code",
   "execution_count": 1,
   "metadata": {},
   "outputs": [],
   "source": [
    "import turtle\n",
    "turtle.color('red')\n",
    "turtle.circle(50)"
   ]
  },
  {
   "cell_type": "code",
   "execution_count": 1,
   "metadata": {},
   "outputs": [],
   "source": [
    "import turtle\n",
    "turtle.bgcolor('yellow')\n",
    "turtle.color('blue')\n",
    "turtle.pensize(12)\n",
    "for angle in range (0, 360, 30):\n",
    "    turtle.seth(angle)\n",
    "    turtle.circle(100)"
   ]
  },
  {
   "cell_type": "code",
   "execution_count": 2,
   "metadata": {},
   "outputs": [],
   "source": [
    "import turtle\n",
    "colors = [\"red\", \"blue\", \"yellow\", \"green\",\"purple\", \"orange\"]\n",
    "\n",
    "turtle.tracer(0,0)\n",
    "for i in range(45):\n",
    "    turtle.color(colors[i%6])\n",
    "    turtle.pendown()\n",
    "    turtle.forward(2+i)\n",
    "    turtle.left(45)\n",
    "    turtle.width(i)\n",
    "    turtle.penup()\n",
    "    turtle.update()"
   ]
  },
  {
   "cell_type": "code",
   "execution_count": null,
   "metadata": {},
   "outputs": [],
   "source": []
  },
  {
   "cell_type": "code",
   "execution_count": null,
   "metadata": {},
   "outputs": [],
   "source": []
  },
  {
   "cell_type": "code",
   "execution_count": null,
   "metadata": {},
   "outputs": [],
   "source": []
  },
  {
   "cell_type": "code",
   "execution_count": null,
   "metadata": {},
   "outputs": [],
   "source": []
  },
  {
   "cell_type": "code",
   "execution_count": null,
   "metadata": {},
   "outputs": [],
   "source": []
  },
  {
   "cell_type": "code",
   "execution_count": null,
   "metadata": {},
   "outputs": [],
   "source": []
  },
  {
   "cell_type": "raw",
   "metadata": {},
   "source": []
  },
  {
   "cell_type": "code",
   "execution_count": null,
   "metadata": {},
   "outputs": [],
   "source": []
  },
  {
   "cell_type": "code",
   "execution_count": null,
   "metadata": {},
   "outputs": [],
   "source": []
  },
  {
   "cell_type": "code",
   "execution_count": null,
   "metadata": {},
   "outputs": [],
   "source": []
  },
  {
   "cell_type": "code",
   "execution_count": null,
   "metadata": {},
   "outputs": [],
   "source": []
  }
 ],
 "metadata": {
  "kernelspec": {
   "display_name": "Python 3",
   "language": "python",
   "name": "python3"
  },
  "language_info": {
   "codemirror_mode": {
    "name": "ipython",
    "version": 3
   },
   "file_extension": ".py",
   "mimetype": "text/x-python",
   "name": "python",
   "nbconvert_exporter": "python",
   "pygments_lexer": "ipython3",
   "version": "3.8.5"
  }
 },
 "nbformat": 4,
 "nbformat_minor": 4
}
