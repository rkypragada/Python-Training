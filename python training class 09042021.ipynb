{
 "cells": [
  {
   "cell_type": "code",
   "execution_count": 6,
   "metadata": {},
   "outputs": [
    {
     "name": "stdout",
     "output_type": "stream",
     "text": [
      "antelope 23\n",
      "['tiger']\n",
      "[24, 25, 23]\n",
      "[23, 24, 25, 23]\n"
     ]
    }
   ],
   "source": [
    "animals = ['zebra','antelope','tiger','chimpanzee','lion']\n",
    "ages = [23,24,25,23,24,25,26,27,30]\n",
    "print (animals[1],ages[3])\n",
    "print (animals[2:3])\n",
    "print(ages[1:4])\n",
    "print(ages[:4])"
   ]
  },
  {
   "cell_type": "code",
   "execution_count": 7,
   "metadata": {},
   "outputs": [
    {
     "name": "stdout",
     "output_type": "stream",
     "text": [
      "['False', 'None', 'True', 'and', 'as', 'assert', 'async', 'await', 'break', 'class', 'continue', 'def', 'del', 'elif', 'else', 'except', 'finally', 'for', 'from', 'global', 'if', 'import', 'in', 'is', 'lambda', 'nonlocal', 'not', 'or', 'pass', 'raise', 'return', 'try', 'while', 'with', 'yield']\n"
     ]
    }
   ],
   "source": [
    "import keyword\n",
    "print(keyword.kwlist)"
   ]
  },
  {
   "cell_type": "code",
   "execution_count": 13,
   "metadata": {},
   "outputs": [
    {
     "data": {
      "text/plain": [
       "['i', 'n', 'd', 'i', 'a']"
      ]
     },
     "execution_count": 13,
     "metadata": {},
     "output_type": "execute_result"
    }
   ],
   "source": [
    "list('india')"
   ]
  },
  {
   "cell_type": "code",
   "execution_count": 23,
   "metadata": {},
   "outputs": [
    {
     "data": {
      "text/plain": [
       "'i'"
      ]
     },
     "execution_count": 23,
     "metadata": {},
     "output_type": "execute_result"
    }
   ],
   "source": [
    "lst=list('iNdia')\n",
    "max(lst)"
   ]
  },
  {
   "cell_type": "code",
   "execution_count": 15,
   "metadata": {},
   "outputs": [
    {
     "data": {
      "text/plain": [
       "'a'"
      ]
     },
     "execution_count": 15,
     "metadata": {},
     "output_type": "execute_result"
    }
   ],
   "source": [
    "lst=list('india')\n",
    "min(lst)"
   ]
  },
  {
   "cell_type": "code",
   "execution_count": 16,
   "metadata": {},
   "outputs": [
    {
     "data": {
      "text/plain": [
       "['a', 'd', 'i', 'i', 'n']"
      ]
     },
     "execution_count": 16,
     "metadata": {},
     "output_type": "execute_result"
    }
   ],
   "source": [
    "lst=list('india')\n",
    "sorted(lst)"
   ]
  },
  {
   "cell_type": "code",
   "execution_count": 21,
   "metadata": {},
   "outputs": [
    {
     "ename": "TypeError",
     "evalue": "unsupported operand type(s) for +: 'int' and 'str'",
     "output_type": "error",
     "traceback": [
      "\u001b[1;31m---------------------------------------------------------------------------\u001b[0m",
      "\u001b[1;31mTypeError\u001b[0m                                 Traceback (most recent call last)",
      "\u001b[1;32m<ipython-input-21-6b332b791f25>\u001b[0m in \u001b[0;36m<module>\u001b[1;34m\u001b[0m\n\u001b[0;32m      1\u001b[0m \u001b[0mlst\u001b[0m\u001b[1;33m=\u001b[0m\u001b[0mlist\u001b[0m\u001b[1;33m(\u001b[0m\u001b[1;34m'india'\u001b[0m\u001b[1;33m)\u001b[0m\u001b[1;33m\u001b[0m\u001b[1;33m\u001b[0m\u001b[0m\n\u001b[1;32m----> 2\u001b[1;33m \u001b[0msum\u001b[0m\u001b[1;33m(\u001b[0m\u001b[0mlst\u001b[0m\u001b[1;33m)\u001b[0m\u001b[1;33m\u001b[0m\u001b[1;33m\u001b[0m\u001b[0m\n\u001b[0m",
      "\u001b[1;31mTypeError\u001b[0m: unsupported operand type(s) for +: 'int' and 'str'"
     ]
    }
   ],
   "source": [
    "lst=list('india')\n",
    "sum(lst)"
   ]
  },
  {
   "cell_type": "code",
   "execution_count": 35,
   "metadata": {},
   "outputs": [
    {
     "name": "stdout",
     "output_type": "stream",
     "text": [
      "a is less than b\n"
     ]
    }
   ],
   "source": [
    "# compare two lists, comparision is done item by item till there is a mismatch. \n",
    "# write a code such that a is less than b when 3 and 5 are compared.\n",
    "\n",
    "a=[1,2,3,4,5,8,5,1]\n",
    "b=[1,2,3,4,5,9,7]\n",
    "if a<b:\n",
    "    print(\"a is less than b\")\n",
    "elif a==b:\n",
    "    print(\"a is equal to b\")\n",
    "else:\n",
    "    print(\"b is less than a\")"
   ]
  },
  {
   "cell_type": "code",
   "execution_count": 26,
   "metadata": {},
   "outputs": [
    {
     "name": "stdout",
     "output_type": "stream",
     "text": [
      "[12, 15, 13, 23, 22, 16, 17, 33, 44, 55]\n",
      "[12, 15, 13, 23, 22, 16, 17, 33, 44, 55, 22]\n",
      "[12, 15, 23, 22, 16, 17, 33, 44, 55, 22]\n",
      "[12, 15, 23, 22, 16, 17, 33, 44, 55]\n",
      "[12, 15, 23, 16, 17, 33, 44, 55]\n",
      "[12, 15, 23, 21, 16, 17, 33, 44, 55]\n",
      "[55, 44, 33, 17, 16, 21, 23, 15, 12]\n",
      "[12, 15, 16, 17, 21, 23, 33, 44, 55]\n",
      "[12, 15, 16, 17, 21, 23, 33, 44, 55, 23]\n",
      "[12, 15, 16, 17, 21, 23, 33, 44, 55, 23]\n",
      "5\n",
      "[21, 12, 15, 16, 17, 21, 23, 33, 44, 55, 23]\n",
      "0\n"
     ]
    }
   ],
   "source": [
    "# LIST METHODS\n",
    "# LIST METHODS ARE ACCESSED USING THE SYNTAX list.function().\n",
    "\n",
    "lst = [12,15,13,23,22,16,17]\n",
    "lst = lst+[33,44,55]\n",
    "print(lst)\n",
    "lst.append(22)\n",
    "print(lst)\n",
    "lst.remove(13)\n",
    "print(lst)\n",
    "lst.pop()\n",
    "print(lst)\n",
    "lst.pop(3)\n",
    "print(lst)\n",
    "lst.insert(3,21)\n",
    "print(lst)\n",
    "lst.reverse()\n",
    "print(lst)\n",
    "lst.sort()\n",
    "print(lst)\n",
    "lst.append(23)\n",
    "print(lst)\n",
    "lst.count(23)\n",
    "print(lst)\n",
    "idx = lst.index(23)\n",
    "print(idx)\n",
    "lst.insert(0,21)\n",
    "print(lst)\n",
    "idx = lst.index(21)\n",
    "print(idx)"
   ]
  },
  {
   "cell_type": "code",
   "execution_count": 28,
   "metadata": {},
   "outputs": [
    {
     "name": "stdout",
     "output_type": "stream",
     "text": [
      "1 6\n"
     ]
    }
   ],
   "source": [
    "# create a list of lists\n",
    "\n",
    "a = [1,3,5,7,9]\n",
    "b = [2,4,6,8,10]\n",
    "c =[a,b]\n",
    "print(c[0][0],c[1][2])"
   ]
  },
  {
   "cell_type": "code",
   "execution_count": 29,
   "metadata": {},
   "outputs": [
    {
     "name": "stdout",
     "output_type": "stream",
     "text": [
      "[1, 2, 3, 4]\n",
      "[10, 20, [1, 2, 3, 4], 30]\n"
     ]
    }
   ],
   "source": [
    "# embedding a list in another list\n",
    "a=[1,2,3,4]\n",
    "b=[10,20,a,30]\n",
    "print(a)\n",
    "print(b)"
   ]
  },
  {
   "cell_type": "code",
   "execution_count": 30,
   "metadata": {},
   "outputs": [
    {
     "name": "stdout",
     "output_type": "stream",
     "text": [
      "[1, 2, 3, 4]\n",
      "[10, 20, 1, 2, 3, 4, 30]\n"
     ]
    }
   ],
   "source": [
    "# unpack a list in another list\n",
    "a=[1,2,3,4]\n",
    "b=[10,20,*a,30]\n",
    "print(a)\n",
    "print(b)"
   ]
  },
  {
   "cell_type": "code",
   "execution_count": 33,
   "metadata": {},
   "outputs": [
    {
     "name": "stdout",
     "output_type": "stream",
     "text": [
      "[19, 44, 55, 16, 43, 24, 62, 76, 51, 84, 14, 23, 39, 28, 52, 55, 43, 43, 67, 66]\n"
     ]
    }
   ],
   "source": [
    "# List Comprehension\n",
    "# generate 20 random numbers inthe range 10 to 100\n",
    "import random\n",
    "a=[random.randint(10,100)for n in range(20)]\n",
    "print(a)"
   ]
  },
  {
   "cell_type": "code",
   "execution_count": null,
   "metadata": {},
   "outputs": [],
   "source": [
    "# Perform the following operations ona list of names\n",
    "\n",
    "# q:1 - create a list of 5 names - 'anil', 'amol','aditya','avi','alka'\n",
    "# q:2 - insert a name 'anuj' before 'aditya'\n",
    "# q:3 - append a name 'zilu'\n",
    "# q:4 - delete 'avi' from the list\n",
    "# q:5 - replace 'anil' with 'anilkumar'\n",
    "# q:6 - sort all the names in the list\n",
    "# q:7 - print reversed sorted list"
   ]
  },
  {
   "cell_type": "code",
   "execution_count": 2,
   "metadata": {},
   "outputs": [
    {
     "name": "stdout",
     "output_type": "stream",
     "text": [
      "Original List :  [1, 2, 3, 4, 5, 6, 7]\n",
      " The modified list is :  [3, 4, 5, 6, 7, 8, 9]\n"
     ]
    }
   ],
   "source": [
    "# map() function\n",
    "#syntax --> map (function, sequence)\n",
    "\n",
    "# Ex: program that adds 2 to every value in the list\n",
    "\n",
    "def add_2(x):\n",
    "    x+=2\n",
    "    return x\n",
    "my_list = [1,2,3,4,5,6,7]\n",
    "print(\"Original List : \", my_list)\n",
    "new_list = list(map(add_2,my_list))\n",
    "print(\" The modified list is : \",new_list)"
   ]
  },
  {
   "cell_type": "code",
   "execution_count": 3,
   "metadata": {},
   "outputs": [
    {
     "name": "stdout",
     "output_type": "stream",
     "text": [
      "sum of values in the list =  \n",
      "28\n"
     ]
    }
   ],
   "source": [
    "# reduce function()\n",
    "#syntax --> reduce (function, sequence)\n",
    "# calculate the sum of values in alist using the reduce() function\n",
    "\n",
    "import functools \n",
    "\n",
    "def add(x,y):\n",
    "    return x+y\n",
    "my_list = [1,2,3,4,5,6,7]\n",
    "print(\"sum of values in the list =  \")\n",
    "print(functools.reduce(add,my_list))\n"
   ]
  },
  {
   "cell_type": "code",
   "execution_count": 5,
   "metadata": {},
   "outputs": [
    {
     "name": "stdout",
     "output_type": "stream",
     "text": [
      "[0, 5, 10, 15, 20, 25, 30, 35]\n"
     ]
    }
   ],
   "source": [
    "my_list = [5*i for i in range (2**3)]\n",
    "print(my_list)"
   ]
  },
  {
   "cell_type": "code",
   "execution_count": null,
   "metadata": {},
   "outputs": [],
   "source": [
    "my_list = [5*i for i in range (100**100)]\n",
    "print(my_list)"
   ]
  },
  {
   "cell_type": "code",
   "execution_count": null,
   "metadata": {},
   "outputs": [],
   "source": []
  },
  {
   "cell_type": "code",
   "execution_count": null,
   "metadata": {},
   "outputs": [],
   "source": []
  },
  {
   "cell_type": "code",
   "execution_count": null,
   "metadata": {},
   "outputs": [],
   "source": []
  },
  {
   "cell_type": "code",
   "execution_count": null,
   "metadata": {},
   "outputs": [],
   "source": []
  },
  {
   "cell_type": "code",
   "execution_count": null,
   "metadata": {},
   "outputs": [],
   "source": []
  },
  {
   "cell_type": "code",
   "execution_count": null,
   "metadata": {},
   "outputs": [],
   "source": []
  }
 ],
 "metadata": {
  "kernelspec": {
   "display_name": "Python 3",
   "language": "python",
   "name": "python3"
  },
  "language_info": {
   "codemirror_mode": {
    "name": "ipython",
    "version": 3
   },
   "file_extension": ".py",
   "mimetype": "text/x-python",
   "name": "python",
   "nbconvert_exporter": "python",
   "pygments_lexer": "ipython3",
   "version": "3.8.5"
  }
 },
 "nbformat": 4,
 "nbformat_minor": 4
}
