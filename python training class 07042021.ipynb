{
 "cells": [
  {
   "cell_type": "code",
   "execution_count": 1,
   "metadata": {},
   "outputs": [
    {
     "data": {
      "text/plain": [
       "'While purchasing certain items, a discount of 10% is offered if the quantity purchased is more than 1000.\\nif quantity and price per item are input through the keyboard, \\nwrite a python script to calculate the total expences.'"
      ]
     },
     "execution_count": 1,
     "metadata": {},
     "output_type": "execute_result"
    }
   ],
   "source": [
    "'''While purchasing certain items, a discount of 10% is offered if the quantity purchased is more than 1000.\n",
    "if quantity and price per item are input through the keyboard, \n",
    "write a python script to calculate the total expences.'''"
   ]
  },
  {
   "cell_type": "code",
   "execution_count": 2,
   "metadata": {},
   "outputs": [
    {
     "name": "stdout",
     "output_type": "stream",
     "text": [
      "Enter value of the Quantity:1200\n",
      "Enter value of Price:15.50\n",
      "Total Expenses = Rs.16740.0\n"
     ]
    }
   ],
   "source": [
    "qty=int(input('Enter value of the Quantity:'))\n",
    "price=float(input('Enter value of Price:'))\n",
    "if qty > 1000:\n",
    "    dis = 10\n",
    "else:\n",
    "    dis = 0\n",
    "totexp = qty*price-qty*price*dis/100\n",
    "print('Total Expenses = Rs.'+str(totexp))"
   ]
  },
  {
   "cell_type": "code",
   "execution_count": 5,
   "metadata": {},
   "outputs": [
    {
     "name": "stdout",
     "output_type": "stream",
     "text": [
      "1 2 3\n",
      "1 3 2\n",
      "2 1 3\n",
      "2 3 1\n",
      "3 1 2\n",
      "3 2 1\n"
     ]
    }
   ],
   "source": [
    "i=1\n",
    "while i<=3:\n",
    "    j=1\n",
    "    while j<=3:\n",
    "        k=1\n",
    "        while k<=3:\n",
    "            if i==j or j==k or k==i:\n",
    "                k+=1\n",
    "                continue\n",
    "            else:\n",
    "                print(i,j,k)\n",
    "            k+=1\n",
    "        j+=1\n",
    "    i+=1"
   ]
  },
  {
   "cell_type": "code",
   "execution_count": 6,
   "metadata": {},
   "outputs": [
    {
     "name": "stdout",
     "output_type": "stream",
     "text": [
      "Decimal Value = 15\n"
     ]
    }
   ],
   "source": [
    "# write a program that obtains decimal value of a binary numeric string.(Try to find the decimal value of 1111)\n",
    "b='1111'\n",
    "i=0\n",
    "while b:\n",
    "    i=i*2+(ord(b[0])-ord('0'))\n",
    "    b=b[1:]\n",
    "print('Decimal Value = '+str(i))"
   ]
  },
  {
   "cell_type": "code",
   "execution_count": 7,
   "metadata": {},
   "outputs": [
    {
     "name": "stdout",
     "output_type": "stream",
     "text": [
      "\n",
      "* \n",
      "* * \n",
      "* * * \n",
      "* * * * \n",
      "* * * * * "
     ]
    }
   ],
   "source": [
    "for i in range(1,6):\n",
    "    print()\n",
    "    for j in range(i):\n",
    "        print(\"*\",end = ' ')"
   ]
  },
  {
   "cell_type": "code",
   "execution_count": 11,
   "metadata": {},
   "outputs": [
    {
     "name": "stdout",
     "output_type": "stream",
     "text": [
      "          1 \n",
      "        1 2 1 \n",
      "      1 2 3 2 1 \n",
      "    1 2 3 4 3 2 1 \n",
      "  1 2 3 4 5 4 3 2 1 \n",
      "1 2 3 4 5 6 5 4 3 2 1 \n"
     ]
    }
   ],
   "source": [
    "N=6\n",
    "for i in range (1,N+1):\n",
    "    for k in range (N,i,-1):\n",
    "        print(\" \",end=' ')\n",
    "    for j in range (1,i+1):\n",
    "        print (j, end=' ')\n",
    "    for l in range (i-1, 0, -1):\n",
    "        print(l,end=' ')\n",
    "    print()"
   ]
  },
  {
   "cell_type": "code",
   "execution_count": 12,
   "metadata": {},
   "outputs": [
    {
     "name": "stdout",
     "output_type": "stream",
     "text": [
      "\n",
      "1 \n",
      "2 2 \n",
      "3 3 3 \n",
      "4 4 4 4 \n",
      "5 5 5 5 5 "
     ]
    }
   ],
   "source": [
    "# Program to print the following pattern\n",
    "for i in range(1,6):\n",
    "    print()\n",
    "    for j in range(1,i+1):\n",
    "        print(i,end=' ')"
   ]
  },
  {
   "cell_type": "code",
   "execution_count": 15,
   "metadata": {},
   "outputs": [
    {
     "name": "stdout",
     "output_type": "stream",
     "text": [
      "Leap Years from 1900 to 2101 are : \n",
      "1900 1904 1908 1912 1916 1920 1924 1928 1932 1936 1940 1944 1948 1952 1956 1960 1964 1968 1972 1976 1980 1984 1988 1992 1996 2000 2004 2008 2012 2016 2020 2024 2028 2032 2036 2040 2044 2048 2052 2056 2060 2064 2068 2072 2076 2080 2084 2088 2092 2096 2100 "
     ]
    }
   ],
   "source": [
    "# program to print all leap years from 1900 to 2101\n",
    "print (\"Leap Years from 1900 to 2101 are : \")\n",
    "for i in range (1900,2101):\n",
    "    if (i%4==0):\n",
    "        print (i,end=\" \")"
   ]
  },
  {
   "cell_type": "code",
   "execution_count": 17,
   "metadata": {},
   "outputs": [
    {
     "name": "stdout",
     "output_type": "stream",
     "text": [
      "enter the number:2\n",
      "power to calculate:5\n",
      "2 to the power of  5 is 32\n"
     ]
    }
   ],
   "source": [
    "# program to calculate pow(x,n)\n",
    "x=int(input(\"enter the number:\"))\n",
    "n=int(input(\"power to calculate:\"))\n",
    "result=1\n",
    "for i in range(n):\n",
    "    result= result*x # 2 to the power 5 --> 2*2*2*2*2 = 32\n",
    "print(x ,\"to the power of \",n,\"is\",result)"
   ]
  },
  {
   "cell_type": "code",
   "execution_count": 9,
   "metadata": {},
   "outputs": [
    {
     "name": "stdout",
     "output_type": "stream",
     "text": [
      "enter start,end,step values1,10,2\n",
      "f    1      1       1\n",
      "f    3      9      27\n",
      "f    5     25     125\n",
      "f    7     49     343\n",
      "f    9     81     729\n",
      "\n"
     ]
    }
   ],
   "source": [
    "# Write a program to receive 3 integers using one call to input(). \n",
    "#the 3 integers signify starting value, ending value and step value for a range.\n",
    "# the program should use these values to print the number, its square and its cube,all properly right-alligned.\n",
    "\n",
    "start,end,step = input(\"enter start,end,step values\").split(\",\")\n",
    "for n in range(int(start), int(end), int(step)):\n",
    "    #print(f'{n:>5}{n**2:>7}{n**3:>8}')\n",
    "    print('f{0:=5}{1:=7}{2:=8}'.format(n,n**2,n**3))\n",
    "print()"
   ]
  },
  {
   "cell_type": "code",
   "execution_count": 4,
   "metadata": {},
   "outputs": [
    {
     "name": "stdout",
     "output_type": "stream",
     "text": [
      "enter start,end,step values1,10,2\n",
      "f    1      1       1\n",
      "f    3      9      27\n",
      "f    5     25     125\n",
      "f    7     49     343\n",
      "f    9     81     729\n",
      "\n"
     ]
    }
   ],
   "source": [
    "# Write a program to receive 3 integers using one call to input(). \n",
    "#the 3 integers signify starting value, ending value and step value for a range.\n",
    "# the program should use these values to print the number, its square and its cube,all properly right-alligned.\n",
    "\n",
    "start,end,step = input(\"enter start,end,step values\").split(\",\")\n",
    "for n in range(int(start), int(end), int(step)):\n",
    "    #print('{n:>5}{n**2:>7}{n**3:>8}')\n",
    "    print('f{0:>5}{1:>7}{2:>8}'.format(n,n**2,n**3))\n",
    "print()"
   ]
  },
  {
   "cell_type": "code",
   "execution_count": null,
   "metadata": {},
   "outputs": [],
   "source": []
  },
  {
   "cell_type": "code",
   "execution_count": null,
   "metadata": {},
   "outputs": [],
   "source": []
  },
  {
   "cell_type": "code",
   "execution_count": null,
   "metadata": {},
   "outputs": [],
   "source": []
  },
  {
   "cell_type": "code",
   "execution_count": null,
   "metadata": {},
   "outputs": [],
   "source": []
  },
  {
   "cell_type": "code",
   "execution_count": null,
   "metadata": {},
   "outputs": [],
   "source": []
  },
  {
   "cell_type": "code",
   "execution_count": null,
   "metadata": {},
   "outputs": [],
   "source": []
  },
  {
   "cell_type": "code",
   "execution_count": null,
   "metadata": {},
   "outputs": [],
   "source": []
  },
  {
   "cell_type": "code",
   "execution_count": null,
   "metadata": {},
   "outputs": [],
   "source": []
  },
  {
   "cell_type": "code",
   "execution_count": null,
   "metadata": {},
   "outputs": [],
   "source": []
  },
  {
   "cell_type": "code",
   "execution_count": null,
   "metadata": {},
   "outputs": [],
   "source": []
  },
  {
   "cell_type": "code",
   "execution_count": null,
   "metadata": {},
   "outputs": [],
   "source": []
  },
  {
   "cell_type": "code",
   "execution_count": null,
   "metadata": {},
   "outputs": [],
   "source": []
  },
  {
   "cell_type": "code",
   "execution_count": null,
   "metadata": {},
   "outputs": [],
   "source": []
  }
 ],
 "metadata": {
  "kernelspec": {
   "display_name": "Python 3",
   "language": "python",
   "name": "python3"
  },
  "language_info": {
   "codemirror_mode": {
    "name": "ipython",
    "version": 3
   },
   "file_extension": ".py",
   "mimetype": "text/x-python",
   "name": "python",
   "nbconvert_exporter": "python",
   "pygments_lexer": "ipython3",
   "version": "3.8.5"
  }
 },
 "nbformat": 4,
 "nbformat_minor": 4
}
