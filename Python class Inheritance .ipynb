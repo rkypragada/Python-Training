{
 "cells": [
  {
   "cell_type": "markdown",
   "metadata": {},
   "source": [
    "# Inheritance"
   ]
  },
  {
   "cell_type": "code",
   "execution_count": null,
   "metadata": {},
   "outputs": [],
   "source": [
    "# code reuse mechanisms\n",
    "\n",
    "1. Containership\n",
    "2. Inheritance\n",
    "\n",
    "Containership ---> 'has a ' relationship\n",
    "\n",
    "Inheritance -----> 'like a' relationship"
   ]
  },
  {
   "cell_type": "code",
   "execution_count": 1,
   "metadata": {},
   "outputs": [
    {
     "name": "stdout",
     "output_type": "stream",
     "text": [
      "enter emplyoee id:101\n",
      "enter employee name:RK\n",
      "enter the department id:CSE\n",
      "enter department name:Computer Science\n",
      "employee id: 101\n",
      "employee name: RK\n",
      "department id is: CSE\n",
      "department name is: Computer Science\n"
     ]
    }
   ],
   "source": [
    "# Containership also called as Composition.\n",
    "\n",
    "class Department:\n",
    "    def set_department(self):\n",
    "        self._id=input('enter the department id:')\n",
    "        self._name=input('enter department name:')\n",
    "    def display_department(self):\n",
    "        print('department id is:',self._id)\n",
    "        print('department name is:',self._name)\n",
    "        \n",
    "class Employee:\n",
    "    def set_employee(self):\n",
    "        self._eid=input('enter emplyoee id:')\n",
    "        self._ename=input('enter employee name:')\n",
    "        self._dobj=Department()\n",
    "        self._dobj.set_department()\n",
    "    \n",
    "    def display_employee(self):\n",
    "        print('employee id:',self._eid)\n",
    "        print('employee name:',self._ename)\n",
    "        self._dobj.display_department()\n",
    "\n",
    "obj = Employee()\n",
    "obj.set_employee()\n",
    "obj.display_employee()"
   ]
  },
  {
   "cell_type": "markdown",
   "metadata": {},
   "source": [
    "<# Inheritance\n",
    "\n",
    "In inheritance a new class called \"derived class\" can be created to inherit \n",
    "features of an existing class called \"base class\""
   ]
  },
  {
   "cell_type": "code",
   "execution_count": 2,
   "metadata": {},
   "outputs": [
    {
     "name": "stdout",
     "output_type": "stream",
     "text": [
      "count = 3\n",
      "count = 2\n",
      "count = 1\n"
     ]
    }
   ],
   "source": [
    "# base class\n",
    "\n",
    "class Index:\n",
    "    def __init__(self):\n",
    "        self._count=0\n",
    "    \n",
    "    def display(self):\n",
    "        print('count = '+str(self._count))\n",
    "    \n",
    "    def incr(self):\n",
    "        self._count+=1\n",
    "\n",
    "# derived class\n",
    "\n",
    "class NewIndex(Index):\n",
    "    def __init__(self):\n",
    "        super().__init__()\n",
    "    \n",
    "    def decr(self):\n",
    "        self._count -=1\n",
    "\n",
    "i = NewIndex()\n",
    "i.incr()\n",
    "i.incr()\n",
    "i.incr()\n",
    "i.display()\n",
    "i.decr()\n",
    "i.display()\n",
    "i.decr()\n",
    "i.display()"
   ]
  },
  {
   "cell_type": "markdown",
   "metadata": {},
   "source": [
    "var ---> public variable ; \n",
    "_var ---> protected variable ; \n",
    "__var ---> private variable"
   ]
  },
  {
   "cell_type": "code",
   "execution_count": 19,
   "metadata": {},
   "outputs": [
    {
     "name": "stdout",
     "output_type": "stream",
     "text": [
      "100 31.44 Python\n",
      "100 31.44 goodmorning\n",
      "20 6.28 hi\n",
      "100\n",
      "31.44\n",
      "100\n",
      "31.44\n"
     ]
    }
   ],
   "source": [
    "class Base:\n",
    "    def __init__(self):\n",
    "        self.i=10\n",
    "        self._a=3.14\n",
    "        self.__s='Python'\n",
    "        \n",
    "    def display(self):\n",
    "        print(self.i,self._a,self.__s)\n",
    "\n",
    "class Derived (Base):\n",
    "    def __init__(self):\n",
    "        super().__init__()\n",
    "        self.i=100\n",
    "        self._a=31.44\n",
    "        self.__s='goodmorning'\n",
    "        self.j=20\n",
    "        self._b=6.28\n",
    "        self.__ss='hi'\n",
    "    def display(self):\n",
    "        super().display()\n",
    "        print(self.i,self._a,self.__s)\n",
    "        print(self.j,self._b,self.__ss)\n",
    "dobj=Derived()\n",
    "dobj.display()\n",
    "\n",
    "print(dobj.i)\n",
    "print(dobj._a)\n",
    "#print(dobj.__s)\n",
    "\n",
    "print(dobj.i)\n",
    "print(dobj._a)\n",
    "#print(dobj.__s)"
   ]
  },
  {
   "cell_type": "code",
   "execution_count": null,
   "metadata": {},
   "outputs": [],
   "source": [
    "# global Functions\n",
    "isinstance(o,c)# used to check whether an object 'o' is an instance of a class 'c'\n",
    "issubclass(d,b)# used to check whether class 'd' has been derived from class 'b'"
   ]
  },
  {
   "cell_type": "code",
   "execution_count": 6,
   "metadata": {},
   "outputs": [
    {
     "name": "stdout",
     "output_type": "stream",
     "text": [
      "['__class__', '__delattr__', '__dir__', '__doc__', '__eq__', '__format__', '__ge__', '__getattribute__', '__gt__', '__hash__', '__init__', '__init_subclass__', '__le__', '__lt__', '__ne__', '__new__', '__reduce__', '__reduce_ex__', '__repr__', '__setattr__', '__sizeof__', '__str__', '__subclasshook__']\n"
     ]
    }
   ],
   "source": [
    "print(dir(object))"
   ]
  },
  {
   "cell_type": "code",
   "execution_count": 7,
   "metadata": {},
   "outputs": [
    {
     "name": "stdout",
     "output_type": "stream",
     "text": [
      "['__class__', '__delattr__', '__dict__', '__dir__', '__doc__', '__eq__', '__format__', '__ge__', '__getattribute__', '__gt__', '__hash__', '__init__', '__init_subclass__', '__le__', '__lt__', '__module__', '__ne__', '__new__', '__reduce__', '__reduce_ex__', '__repr__', '__setattr__', '__sizeof__', '__str__', '__subclasshook__', '__weakref__', 'display', 'incr']\n"
     ]
    }
   ],
   "source": [
    "print(dir(Index))"
   ]
  },
  {
   "cell_type": "code",
   "execution_count": 8,
   "metadata": {},
   "outputs": [
    {
     "name": "stdout",
     "output_type": "stream",
     "text": [
      "['__class__', '__delattr__', '__dict__', '__dir__', '__doc__', '__eq__', '__format__', '__ge__', '__getattribute__', '__gt__', '__hash__', '__init__', '__init_subclass__', '__le__', '__lt__', '__module__', '__ne__', '__new__', '__reduce__', '__reduce_ex__', '__repr__', '__setattr__', '__sizeof__', '__str__', '__subclasshook__', '__weakref__', 'decr', 'display', 'incr']\n"
     ]
    }
   ],
   "source": [
    "print(dir(NewIndex))"
   ]
  },
  {
   "cell_type": "markdown",
   "metadata": {},
   "source": [
    "<# Define a class Shape. Inherit two classes Circle and Rectangle. \n",
    "#Check programatically the inheritance relationship between the classes\n",
    "#check Shape and Circle objects. report of which classes are these objects instances of."
   ]
  },
  {
   "cell_type": "code",
   "execution_count": 2,
   "metadata": {},
   "outputs": [
    {
     "name": "stdout",
     "output_type": "stream",
     "text": [
      "True\n",
      "False\n",
      "False\n",
      "True\n",
      "True\n"
     ]
    }
   ],
   "source": [
    "class Shape:\n",
    "    pass\n",
    "class Rectangle(Shape):\n",
    "    pass\n",
    "class Circle(Shape):\n",
    "    pass\n",
    "\n",
    "s = Shape()\n",
    "c = Circle()\n",
    "print(isinstance(s,Shape))\n",
    "print(isinstance(s,Rectangle))\n",
    "print(isinstance(s,Circle))\n",
    "print(issubclass(Rectangle,Shape))\n",
    "print(issubclass(Circle,Shape))"
   ]
  },
  {
   "cell_type": "markdown",
   "metadata": {},
   "source": [
    "<# Write a program that uses simple inheritance between classes Base and Derived. \n",
    "#If there is a method in Base class, how do you prevent it from being overridden in the derived class?"
   ]
  },
  {
   "cell_type": "code",
   "execution_count": 4,
   "metadata": {},
   "outputs": [
    {
     "name": "stdout",
     "output_type": "stream",
     "text": [
      "In Base.__method\n",
      "In Base.__method\n"
     ]
    }
   ],
   "source": [
    "class Base:\n",
    "    def __method(self):\n",
    "        print('In Base.__method')\n",
    "    def func(self):\n",
    "        self.__method()\n",
    "\n",
    "class Derived(Base):\n",
    "    def __method(self):\n",
    "        print('In Derived.__method')\n",
    "\n",
    "b = Base()\n",
    "b.func()\n",
    "d = Derived()\n",
    "d.func()"
   ]
  },
  {
   "cell_type": "code",
   "execution_count": null,
   "metadata": {},
   "outputs": [],
   "source": [
    "# Write a program that defines a class called Progression and inherits three classes from it AP, GP, FP.\n",
    "# Progression class should act as a user-defined iterator. by default, it should generaye integers stating with 0\n",
    "#and advancing in steps of 1.\n",
    "# AP, GP, FP should make use of the iteration facility of Progression class.\n",
    "# they should appropreately adjust themselves to generate numbers in AP, GP and FP"
   ]
  },
  {
   "cell_type": "code",
   "execution_count": 12,
   "metadata": {},
   "outputs": [
    {
     "name": "stdout",
     "output_type": "stream",
     "text": [
      "Default Progression:\n",
      "0 1 2 3 4 5 6 7 8 9\n",
      "AP with step 5:\n",
      "5 6 7 8 9 10 11 12 13 14\n",
      "AP with start 2 and step 4:\n",
      "2 6 10 14 18 22 26 30 34 38\n",
      "GP with default multiple: \n",
      "1 2 4 8 16 32 64 128 256 512\n",
      "GP with start 1 and multiple 3: \n",
      "1 3 9 27 81 243 729 2187 6561 19683\n",
      "FP with default start values: \n",
      "0 1 1 2 3 5 8 13 21 34\n",
      "FP with start values 4 and 6: \n",
      "4 6 10 16 26 42 68 110 178 288\n"
     ]
    }
   ],
   "source": [
    "class Progression:\n",
    "    def __init__(self,start = 0):\n",
    "        self.cur = start\n",
    "    def __iter__(self):\n",
    "        return self\n",
    "    def advance(self):\n",
    "        self.cur+=1\n",
    "    def __next__(self):\n",
    "        if self.cur is None:\n",
    "            raise StopIteration\n",
    "        else:\n",
    "            data = self.cur\n",
    "            self.advance()\n",
    "            return data\n",
    "    def display(self,n):\n",
    "        print(' '.join(str(next(self)) for i in range(n)))\n",
    "\n",
    "class AP(Progression):\n",
    "    def __init__(self,start = 0, step = 1):\n",
    "        super().__init__(start)\n",
    "        self.step = step\n",
    "    def advance(self):\n",
    "        self.cur+=self.step\n",
    "class GP(Progression):\n",
    "    def __init__(self,start = 1, step = 2):\n",
    "        super().__init__(start)\n",
    "        self.step = step\n",
    "    def advance(self):\n",
    "        self.cur*=self.step\n",
    "class FP(Progression):\n",
    "    def __init__(self,first = 0, second = 1):\n",
    "        super().__init__(first)\n",
    "        self.prev = second-first\n",
    "    def advance(self):\n",
    "        self.prev,self.cur = self.cur, self.prev + self.cur\n",
    "\n",
    "print('Default Progression:')\n",
    "p=Progression()\n",
    "p.display(10)\n",
    "\n",
    "print('AP with step 5:')\n",
    "a=AP(5)\n",
    "a.display(10)\n",
    "\n",
    "print('AP with start 2 and step 4:')\n",
    "a=AP(2,4)\n",
    "a.display(10)\n",
    "\n",
    "print('GP with default multiple: ')\n",
    "g=GP()\n",
    "g.display(10)\n",
    "\n",
    "print('GP with start 1 and multiple 3: ')\n",
    "g=GP(1,3)\n",
    "g.display(10)\n",
    "\n",
    "print('FP with default start values: ')\n",
    "f=FP()\n",
    "f.display(10)\n",
    "\n",
    "print('FP with start values 4 and 6: ')\n",
    "f=FP(4,6)\n",
    "f.display(10)"
   ]
  },
  {
   "cell_type": "code",
   "execution_count": null,
   "metadata": {},
   "outputs": [],
   "source": []
  },
  {
   "cell_type": "code",
   "execution_count": null,
   "metadata": {},
   "outputs": [],
   "source": []
  },
  {
   "cell_type": "code",
   "execution_count": null,
   "metadata": {},
   "outputs": [],
   "source": []
  },
  {
   "cell_type": "code",
   "execution_count": null,
   "metadata": {},
   "outputs": [],
   "source": []
  },
  {
   "cell_type": "code",
   "execution_count": null,
   "metadata": {},
   "outputs": [],
   "source": []
  }
 ],
 "metadata": {
  "kernelspec": {
   "display_name": "Python 3",
   "language": "python",
   "name": "python3"
  },
  "language_info": {
   "codemirror_mode": {
    "name": "ipython",
    "version": 3
   },
   "file_extension": ".py",
   "mimetype": "text/x-python",
   "name": "python",
   "nbconvert_exporter": "python",
   "pygments_lexer": "ipython3",
   "version": "3.8.5"
  }
 },
 "nbformat": 4,
 "nbformat_minor": 4
}
